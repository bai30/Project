{
  "nbformat": 4,
  "nbformat_minor": 0,
  "metadata": {
    "colab": {
      "provenance": [],
      "collapsed_sections": [
        "WUU8n3_2xSIi",
        "WOqNKJyOx0MD",
        "NDNCH1e0ziXS"
      ]
    },
    "kernelspec": {
      "name": "python3",
      "display_name": "Python 3"
    },
    "language_info": {
      "name": "python"
    }
  },
  "cells": [
    {
      "cell_type": "code",
      "execution_count": 1,
      "metadata": {
        "id": "aEIEyM_ZGBph"
      },
      "outputs": [],
      "source": [
        "import pandas as pd\n",
        "import matplotlib.pyplot as plt\n",
        "from google.colab import files\n",
        "\n",
        "from statsmodels.tsa.seasonal import seasonal_decompose\n",
        "from statsmodels.tsa.stattools import adfuller\n",
        "from statsmodels.tsa.statespace.sarimax import SARIMAX\n",
        "from statsmodels.tools.eval_measures import rmse\n",
        "\n",
        "from sklearn.metrics import mean_squared_error as mse\n",
        "\n",
        "import itertools as it\n",
        "\n",
        "import warnings\n",
        "warnings.filterwarnings('ignore')"
      ]
    },
    {
      "cell_type": "markdown",
      "source": [
        "## load data"
      ],
      "metadata": {
        "id": "WUU8n3_2xSIi"
      }
    },
    {
      "cell_type": "code",
      "source": [
        "files.upload()"
      ],
      "metadata": {
        "id": "T6u5BsxeJTMW"
      },
      "execution_count": null,
      "outputs": []
    },
    {
      "cell_type": "code",
      "source": [
        "df = pd.read_excel('emass.xlsx', parse_dates=['Date'])"
      ],
      "metadata": {
        "id": "D1Dc6Sp1JqbB"
      },
      "execution_count": 3,
      "outputs": []
    },
    {
      "cell_type": "markdown",
      "source": [
        "## data understanding"
      ],
      "metadata": {
        "id": "WOqNKJyOx0MD"
      }
    },
    {
      "cell_type": "code",
      "source": [
        "df.shape, df.isna().sum()"
      ],
      "metadata": {
        "colab": {
          "base_uri": "https://localhost:8080/"
        },
        "id": "EI5xMzlGxXxR",
        "outputId": "9be752ce-e225-42cb-f0fb-4b594ba5329a"
      },
      "execution_count": 4,
      "outputs": [
        {
          "output_type": "execute_result",
          "data": {
            "text/plain": [
              "((1258, 7),\n",
              " Date      0\n",
              " Open      0\n",
              " High      0\n",
              " Low       0\n",
              " Close     0\n",
              " Adj       0\n",
              " Volume    0\n",
              " dtype: int64)"
            ]
          },
          "metadata": {},
          "execution_count": 4
        }
      ]
    },
    {
      "cell_type": "code",
      "source": [
        "df.info(), df.columns"
      ],
      "metadata": {
        "colab": {
          "base_uri": "https://localhost:8080/"
        },
        "id": "vy4WpELfxgez",
        "outputId": "883350ef-203e-49ba-dfbf-408b02dc5790"
      },
      "execution_count": 5,
      "outputs": [
        {
          "output_type": "stream",
          "name": "stdout",
          "text": [
            "<class 'pandas.core.frame.DataFrame'>\n",
            "RangeIndex: 1258 entries, 0 to 1257\n",
            "Data columns (total 7 columns):\n",
            " #   Column  Non-Null Count  Dtype         \n",
            "---  ------  --------------  -----         \n",
            " 0   Date    1258 non-null   datetime64[ns]\n",
            " 1   Open    1258 non-null   float64       \n",
            " 2   High    1258 non-null   float64       \n",
            " 3   Low     1258 non-null   float64       \n",
            " 4   Close   1258 non-null   float64       \n",
            " 5   Adj     1258 non-null   float64       \n",
            " 6   Volume  1258 non-null   object        \n",
            "dtypes: datetime64[ns](1), float64(5), object(1)\n",
            "memory usage: 68.9+ KB\n"
          ]
        },
        {
          "output_type": "execute_result",
          "data": {
            "text/plain": [
              "(None,\n",
              " Index(['Date', 'Open', 'High', 'Low', 'Close', 'Adj', 'Volume'], dtype='object'))"
            ]
          },
          "metadata": {},
          "execution_count": 5
        }
      ]
    },
    {
      "cell_type": "code",
      "source": [
        "df.head()"
      ],
      "metadata": {
        "colab": {
          "base_uri": "https://localhost:8080/",
          "height": 206
        },
        "id": "bJwD74-nxqmL",
        "outputId": "ed395416-8a45-4f9b-b4f8-c7c7479734bc"
      },
      "execution_count": 6,
      "outputs": [
        {
          "output_type": "execute_result",
          "data": {
            "text/plain": [
              "        Date    Open    High     Low   Close     Adj Volume\n",
              "0 2023-11-10  1959.6  1959.6  1932.6  1932.6  1932.6     10\n",
              "1 2023-11-09  1951.7  1964.2  1945.3  1964.2  1964.2     10\n",
              "2 2023-11-08  1967.8  1967.8  1947.7  1951.5  1951.5     43\n",
              "3 2023-11-07  1966.5  1966.8  1960.7  1966.8  1966.8     20\n",
              "4 2023-11-06  1981.6  1981.6  1977.4  1981.6  1981.6    130"
            ],
            "text/html": [
              "\n",
              "  <div id=\"df-4133d0b6-34db-4471-9f64-4c443bbff75c\" class=\"colab-df-container\">\n",
              "    <div>\n",
              "<style scoped>\n",
              "    .dataframe tbody tr th:only-of-type {\n",
              "        vertical-align: middle;\n",
              "    }\n",
              "\n",
              "    .dataframe tbody tr th {\n",
              "        vertical-align: top;\n",
              "    }\n",
              "\n",
              "    .dataframe thead th {\n",
              "        text-align: right;\n",
              "    }\n",
              "</style>\n",
              "<table border=\"1\" class=\"dataframe\">\n",
              "  <thead>\n",
              "    <tr style=\"text-align: right;\">\n",
              "      <th></th>\n",
              "      <th>Date</th>\n",
              "      <th>Open</th>\n",
              "      <th>High</th>\n",
              "      <th>Low</th>\n",
              "      <th>Close</th>\n",
              "      <th>Adj</th>\n",
              "      <th>Volume</th>\n",
              "    </tr>\n",
              "  </thead>\n",
              "  <tbody>\n",
              "    <tr>\n",
              "      <th>0</th>\n",
              "      <td>2023-11-10</td>\n",
              "      <td>1959.6</td>\n",
              "      <td>1959.6</td>\n",
              "      <td>1932.6</td>\n",
              "      <td>1932.6</td>\n",
              "      <td>1932.6</td>\n",
              "      <td>10</td>\n",
              "    </tr>\n",
              "    <tr>\n",
              "      <th>1</th>\n",
              "      <td>2023-11-09</td>\n",
              "      <td>1951.7</td>\n",
              "      <td>1964.2</td>\n",
              "      <td>1945.3</td>\n",
              "      <td>1964.2</td>\n",
              "      <td>1964.2</td>\n",
              "      <td>10</td>\n",
              "    </tr>\n",
              "    <tr>\n",
              "      <th>2</th>\n",
              "      <td>2023-11-08</td>\n",
              "      <td>1967.8</td>\n",
              "      <td>1967.8</td>\n",
              "      <td>1947.7</td>\n",
              "      <td>1951.5</td>\n",
              "      <td>1951.5</td>\n",
              "      <td>43</td>\n",
              "    </tr>\n",
              "    <tr>\n",
              "      <th>3</th>\n",
              "      <td>2023-11-07</td>\n",
              "      <td>1966.5</td>\n",
              "      <td>1966.8</td>\n",
              "      <td>1960.7</td>\n",
              "      <td>1966.8</td>\n",
              "      <td>1966.8</td>\n",
              "      <td>20</td>\n",
              "    </tr>\n",
              "    <tr>\n",
              "      <th>4</th>\n",
              "      <td>2023-11-06</td>\n",
              "      <td>1981.6</td>\n",
              "      <td>1981.6</td>\n",
              "      <td>1977.4</td>\n",
              "      <td>1981.6</td>\n",
              "      <td>1981.6</td>\n",
              "      <td>130</td>\n",
              "    </tr>\n",
              "  </tbody>\n",
              "</table>\n",
              "</div>\n",
              "    <div class=\"colab-df-buttons\">\n",
              "\n",
              "  <div class=\"colab-df-container\">\n",
              "    <button class=\"colab-df-convert\" onclick=\"convertToInteractive('df-4133d0b6-34db-4471-9f64-4c443bbff75c')\"\n",
              "            title=\"Convert this dataframe to an interactive table.\"\n",
              "            style=\"display:none;\">\n",
              "\n",
              "  <svg xmlns=\"http://www.w3.org/2000/svg\" height=\"24px\" viewBox=\"0 -960 960 960\">\n",
              "    <path d=\"M120-120v-720h720v720H120Zm60-500h600v-160H180v160Zm220 220h160v-160H400v160Zm0 220h160v-160H400v160ZM180-400h160v-160H180v160Zm440 0h160v-160H620v160ZM180-180h160v-160H180v160Zm440 0h160v-160H620v160Z\"/>\n",
              "  </svg>\n",
              "    </button>\n",
              "\n",
              "  <style>\n",
              "    .colab-df-container {\n",
              "      display:flex;\n",
              "      gap: 12px;\n",
              "    }\n",
              "\n",
              "    .colab-df-convert {\n",
              "      background-color: #E8F0FE;\n",
              "      border: none;\n",
              "      border-radius: 50%;\n",
              "      cursor: pointer;\n",
              "      display: none;\n",
              "      fill: #1967D2;\n",
              "      height: 32px;\n",
              "      padding: 0 0 0 0;\n",
              "      width: 32px;\n",
              "    }\n",
              "\n",
              "    .colab-df-convert:hover {\n",
              "      background-color: #E2EBFA;\n",
              "      box-shadow: 0px 1px 2px rgba(60, 64, 67, 0.3), 0px 1px 3px 1px rgba(60, 64, 67, 0.15);\n",
              "      fill: #174EA6;\n",
              "    }\n",
              "\n",
              "    .colab-df-buttons div {\n",
              "      margin-bottom: 4px;\n",
              "    }\n",
              "\n",
              "    [theme=dark] .colab-df-convert {\n",
              "      background-color: #3B4455;\n",
              "      fill: #D2E3FC;\n",
              "    }\n",
              "\n",
              "    [theme=dark] .colab-df-convert:hover {\n",
              "      background-color: #434B5C;\n",
              "      box-shadow: 0px 1px 3px 1px rgba(0, 0, 0, 0.15);\n",
              "      filter: drop-shadow(0px 1px 2px rgba(0, 0, 0, 0.3));\n",
              "      fill: #FFFFFF;\n",
              "    }\n",
              "  </style>\n",
              "\n",
              "    <script>\n",
              "      const buttonEl =\n",
              "        document.querySelector('#df-4133d0b6-34db-4471-9f64-4c443bbff75c button.colab-df-convert');\n",
              "      buttonEl.style.display =\n",
              "        google.colab.kernel.accessAllowed ? 'block' : 'none';\n",
              "\n",
              "      async function convertToInteractive(key) {\n",
              "        const element = document.querySelector('#df-4133d0b6-34db-4471-9f64-4c443bbff75c');\n",
              "        const dataTable =\n",
              "          await google.colab.kernel.invokeFunction('convertToInteractive',\n",
              "                                                    [key], {});\n",
              "        if (!dataTable) return;\n",
              "\n",
              "        const docLinkHtml = 'Like what you see? Visit the ' +\n",
              "          '<a target=\"_blank\" href=https://colab.research.google.com/notebooks/data_table.ipynb>data table notebook</a>'\n",
              "          + ' to learn more about interactive tables.';\n",
              "        element.innerHTML = '';\n",
              "        dataTable['output_type'] = 'display_data';\n",
              "        await google.colab.output.renderOutput(dataTable, element);\n",
              "        const docLink = document.createElement('div');\n",
              "        docLink.innerHTML = docLinkHtml;\n",
              "        element.appendChild(docLink);\n",
              "      }\n",
              "    </script>\n",
              "  </div>\n",
              "\n",
              "\n",
              "<div id=\"df-7e33daa3-a34a-47b9-a55c-230785f3ab90\">\n",
              "  <button class=\"colab-df-quickchart\" onclick=\"quickchart('df-7e33daa3-a34a-47b9-a55c-230785f3ab90')\"\n",
              "            title=\"Suggest charts\"\n",
              "            style=\"display:none;\">\n",
              "\n",
              "<svg xmlns=\"http://www.w3.org/2000/svg\" height=\"24px\"viewBox=\"0 0 24 24\"\n",
              "     width=\"24px\">\n",
              "    <g>\n",
              "        <path d=\"M19 3H5c-1.1 0-2 .9-2 2v14c0 1.1.9 2 2 2h14c1.1 0 2-.9 2-2V5c0-1.1-.9-2-2-2zM9 17H7v-7h2v7zm4 0h-2V7h2v10zm4 0h-2v-4h2v4z\"/>\n",
              "    </g>\n",
              "</svg>\n",
              "  </button>\n",
              "\n",
              "<style>\n",
              "  .colab-df-quickchart {\n",
              "      --bg-color: #E8F0FE;\n",
              "      --fill-color: #1967D2;\n",
              "      --hover-bg-color: #E2EBFA;\n",
              "      --hover-fill-color: #174EA6;\n",
              "      --disabled-fill-color: #AAA;\n",
              "      --disabled-bg-color: #DDD;\n",
              "  }\n",
              "\n",
              "  [theme=dark] .colab-df-quickchart {\n",
              "      --bg-color: #3B4455;\n",
              "      --fill-color: #D2E3FC;\n",
              "      --hover-bg-color: #434B5C;\n",
              "      --hover-fill-color: #FFFFFF;\n",
              "      --disabled-bg-color: #3B4455;\n",
              "      --disabled-fill-color: #666;\n",
              "  }\n",
              "\n",
              "  .colab-df-quickchart {\n",
              "    background-color: var(--bg-color);\n",
              "    border: none;\n",
              "    border-radius: 50%;\n",
              "    cursor: pointer;\n",
              "    display: none;\n",
              "    fill: var(--fill-color);\n",
              "    height: 32px;\n",
              "    padding: 0;\n",
              "    width: 32px;\n",
              "  }\n",
              "\n",
              "  .colab-df-quickchart:hover {\n",
              "    background-color: var(--hover-bg-color);\n",
              "    box-shadow: 0 1px 2px rgba(60, 64, 67, 0.3), 0 1px 3px 1px rgba(60, 64, 67, 0.15);\n",
              "    fill: var(--button-hover-fill-color);\n",
              "  }\n",
              "\n",
              "  .colab-df-quickchart-complete:disabled,\n",
              "  .colab-df-quickchart-complete:disabled:hover {\n",
              "    background-color: var(--disabled-bg-color);\n",
              "    fill: var(--disabled-fill-color);\n",
              "    box-shadow: none;\n",
              "  }\n",
              "\n",
              "  .colab-df-spinner {\n",
              "    border: 2px solid var(--fill-color);\n",
              "    border-color: transparent;\n",
              "    border-bottom-color: var(--fill-color);\n",
              "    animation:\n",
              "      spin 1s steps(1) infinite;\n",
              "  }\n",
              "\n",
              "  @keyframes spin {\n",
              "    0% {\n",
              "      border-color: transparent;\n",
              "      border-bottom-color: var(--fill-color);\n",
              "      border-left-color: var(--fill-color);\n",
              "    }\n",
              "    20% {\n",
              "      border-color: transparent;\n",
              "      border-left-color: var(--fill-color);\n",
              "      border-top-color: var(--fill-color);\n",
              "    }\n",
              "    30% {\n",
              "      border-color: transparent;\n",
              "      border-left-color: var(--fill-color);\n",
              "      border-top-color: var(--fill-color);\n",
              "      border-right-color: var(--fill-color);\n",
              "    }\n",
              "    40% {\n",
              "      border-color: transparent;\n",
              "      border-right-color: var(--fill-color);\n",
              "      border-top-color: var(--fill-color);\n",
              "    }\n",
              "    60% {\n",
              "      border-color: transparent;\n",
              "      border-right-color: var(--fill-color);\n",
              "    }\n",
              "    80% {\n",
              "      border-color: transparent;\n",
              "      border-right-color: var(--fill-color);\n",
              "      border-bottom-color: var(--fill-color);\n",
              "    }\n",
              "    90% {\n",
              "      border-color: transparent;\n",
              "      border-bottom-color: var(--fill-color);\n",
              "    }\n",
              "  }\n",
              "</style>\n",
              "\n",
              "  <script>\n",
              "    async function quickchart(key) {\n",
              "      const quickchartButtonEl =\n",
              "        document.querySelector('#' + key + ' button');\n",
              "      quickchartButtonEl.disabled = true;  // To prevent multiple clicks.\n",
              "      quickchartButtonEl.classList.add('colab-df-spinner');\n",
              "      try {\n",
              "        const charts = await google.colab.kernel.invokeFunction(\n",
              "            'suggestCharts', [key], {});\n",
              "      } catch (error) {\n",
              "        console.error('Error during call to suggestCharts:', error);\n",
              "      }\n",
              "      quickchartButtonEl.classList.remove('colab-df-spinner');\n",
              "      quickchartButtonEl.classList.add('colab-df-quickchart-complete');\n",
              "    }\n",
              "    (() => {\n",
              "      let quickchartButtonEl =\n",
              "        document.querySelector('#df-7e33daa3-a34a-47b9-a55c-230785f3ab90 button');\n",
              "      quickchartButtonEl.style.display =\n",
              "        google.colab.kernel.accessAllowed ? 'block' : 'none';\n",
              "    })();\n",
              "  </script>\n",
              "</div>\n",
              "    </div>\n",
              "  </div>\n"
            ]
          },
          "metadata": {},
          "execution_count": 6
        }
      ]
    },
    {
      "cell_type": "markdown",
      "source": [
        "## data preparation"
      ],
      "metadata": {
        "id": "7J9orDVyxmig"
      }
    },
    {
      "cell_type": "code",
      "source": [
        "df = df.sort_values('Date')"
      ],
      "metadata": {
        "id": "uaE4t11DJ32j"
      },
      "execution_count": 7,
      "outputs": []
    },
    {
      "cell_type": "code",
      "source": [
        "df['stationer'] = df['Close'].diff()\n",
        "df.dropna(inplace=True)"
      ],
      "metadata": {
        "id": "0ItY1xvXymoM"
      },
      "execution_count": 8,
      "outputs": []
    },
    {
      "cell_type": "code",
      "source": [
        "data = df[['Date', 'Close']].set_index('Date')"
      ],
      "metadata": {
        "id": "wN3s_2t6qUZp"
      },
      "execution_count": 9,
      "outputs": []
    },
    {
      "cell_type": "code",
      "source": [
        "data = data.resample('MS').mean()\n",
        "data.plot()"
      ],
      "metadata": {
        "colab": {
          "base_uri": "https://localhost:8080/",
          "height": 466
        },
        "id": "tpPvKMQKzB6m",
        "outputId": "001c3349-6bcb-4db3-c14c-2f55443a6db8"
      },
      "execution_count": 10,
      "outputs": [
        {
          "output_type": "execute_result",
          "data": {
            "text/plain": [
              "<Axes: xlabel='Date'>"
            ]
          },
          "metadata": {},
          "execution_count": 10
        },
        {
          "output_type": "display_data",
          "data": {
            "text/plain": [
              "<Figure size 640x480 with 1 Axes>"
            ],
            "image/png": "[encoded data removed]"
          },
          "metadata": {}
        }
      ]
    },
    {
      "cell_type": "code",
      "source": [
        "decomposed = seasonal_decompose(data, model='additive')\n",
        "decomposed.plot()"
      ],
      "metadata": {
        "colab": {
          "base_uri": "https://localhost:8080/",
          "height": 955
        },
        "id": "_kuri25A1Hw1",
        "outputId": "3bf9c106-fe53-4189-e658-a98a1a3e9ca6"
      },
      "execution_count": 11,
      "outputs": [
        {
          "output_type": "execute_result",
          "data": {
            "text/plain": [
              "<Figure size 640x480 with 4 Axes>"
            ],
            "image/png": "[encoded data removed]"
          },
          "metadata": {},
          "execution_count": 11
        },
        {
          "output_type": "display_data",
          "data": {
            "text/plain": [
              "<Figure size 640x480 with 4 Axes>"
            ],
            "image/png": "[encoded data removed]"
          },
          "metadata": {}
        }
      ]
    },
    {
      "cell_type": "markdown",
      "source": [
        "## split train-test"
      ],
      "metadata": {
        "id": "g5vVltxb14w5"
      }
    },
    {
      "cell_type": "code",
      "source": [
        "data.shape"
      ],
      "metadata": {
        "colab": {
          "base_uri": "https://localhost:8080/"
        },
        "id": "-Bo7UK3H14au",
        "outputId": "08f4e832-48fb-42e0-edad-4b635cbcfcd6"
      },
      "execution_count": 12,
      "outputs": [
        {
          "output_type": "execute_result",
          "data": {
            "text/plain": [
              "(61, 1)"
            ]
          },
          "metadata": {},
          "execution_count": 12
        }
      ]
    },
    {
      "cell_type": "code",
      "source": [
        "train = data.iloc[:-12]\n",
        "test = data.iloc[-12:] #20%"
      ],
      "metadata": {
        "id": "UHecnR2RZ6eY"
      },
      "execution_count": 14,
      "outputs": []
    },
    {
      "cell_type": "markdown",
      "source": [
        "# Modelling"
      ],
      "metadata": {
        "id": "UiGFx7vEIvaN"
      }
    },
    {
      "cell_type": "code",
      "source": [
        "p = q = range(0, 3)\n",
        "d = range(0,2)\n",
        "pdq = list(it.product(p, d, q))\n",
        "pdqs = [(x[0], x[1], x[2], 12) for x in list(pdq)]"
      ],
      "metadata": {
        "id": "I64BdTdZ5dTK"
      },
      "execution_count": 24,
      "outputs": []
    },
    {
      "cell_type": "code",
      "source": [
        "jawab=[]\n",
        "def get_param(data, param1, param2, iter):\n",
        "    hasil = []\n",
        "    for x in param1:\n",
        "        for y in param2:\n",
        "            try:\n",
        "                mod = SARIMAX(data,\n",
        "                              order = x,\n",
        "                              seasonal_order = y,)\n",
        "                hasil = mod.fit(maxiter=iter)\n",
        "                jawab.append([x, y, hasil.aic.round(1)])\n",
        "            except:\n",
        "                continue"
      ],
      "metadata": {
        "id": "YEH0aRPYzje8"
      },
      "execution_count": 25,
      "outputs": []
    },
    {
      "cell_type": "code",
      "source": [
        "get_param(train, pdq, pdqs, 50)"
      ],
      "metadata": {
        "id": "M0OJ575e5Vv1"
      },
      "execution_count": 26,
      "outputs": []
    },
    {
      "cell_type": "code",
      "source": [
        "dataparam = pd.DataFrame(jawab, columns=['param_order', 'param_seasonal', 'aic'])\n",
        "dataparam = dataparam.sort_values(by = ['aic'],ascending=True)[:15]\n",
        "dataparam"
      ],
      "metadata": {
        "id": "wnwThceww0T2",
        "colab": {
          "base_uri": "https://localhost:8080/",
          "height": 520
        },
        "outputId": "208a0380-0b7b-4408-d52a-a6fed584e602"
      },
      "execution_count": 27,
      "outputs": [
        {
          "output_type": "execute_result",
          "data": {
            "text/plain": [
              "    param_order param_seasonal    aic\n",
              "228   (2, 0, 0)  (2, 0, 1, 12)   12.0\n",
              "76    (0, 1, 1)  (0, 1, 1, 12)  409.5\n",
              "165   (1, 1, 0)  (0, 1, 1, 12)  410.0\n",
              "87    (0, 1, 1)  (2, 1, 0, 12)  411.0\n",
              "58    (0, 1, 0)  (0, 1, 1, 12)  411.2\n",
              "77    (0, 1, 1)  (0, 1, 2, 12)  411.2\n",
              "82    (0, 1, 1)  (1, 1, 1, 12)  411.3\n",
              "273   (2, 1, 0)  (0, 1, 1, 12)  411.4\n",
              "94    (0, 1, 2)  (0, 1, 1, 12)  411.5\n",
              "176   (1, 1, 0)  (2, 1, 0, 12)  411.5\n",
              "183   (1, 1, 1)  (0, 1, 1, 12)  411.5\n",
              "81    (0, 1, 1)  (1, 1, 0, 12)  411.7\n",
              "171   (1, 1, 0)  (1, 1, 1, 12)  411.8\n",
              "166   (1, 1, 0)  (0, 1, 2, 12)  411.8\n",
              "170   (1, 1, 0)  (1, 1, 0, 12)  412.2"
            ],
            "text/html": [
              "\n",
              "  <div id=\"df-3acb2535-4abb-4dfa-8868-35295c209434\" class=\"colab-df-container\">\n",
              "    <div>\n",
              "<style scoped>\n",
              "    .dataframe tbody tr th:only-of-type {\n",
              "        vertical-align: middle;\n",
              "    }\n",
              "\n",
              "    .dataframe tbody tr th {\n",
              "        vertical-align: top;\n",
              "    }\n",
              "\n",
              "    .dataframe thead th {\n",
              "        text-align: right;\n",
              "    }\n",
              "</style>\n",
              "<table border=\"1\" class=\"dataframe\">\n",
              "  <thead>\n",
              "    <tr style=\"text-align: right;\">\n",
              "      <th></th>\n",
              "      <th>param_order</th>\n",
              "      <th>param_seasonal</th>\n",
              "      <th>aic</th>\n",
              "    </tr>\n",
              "  </thead>\n",
              "  <tbody>\n",
              "    <tr>\n",
              "      <th>228</th>\n",
              "      <td>(2, 0, 0)</td>\n",
              "      <td>(2, 0, 1, 12)</td>\n",
              "      <td>12.0</td>\n",
              "    </tr>\n",
              "    <tr>\n",
              "      <th>76</th>\n",
              "      <td>(0, 1, 1)</td>\n",
              "      <td>(0, 1, 1, 12)</td>\n",
              "      <td>409.5</td>\n",
              "    </tr>\n",
              "    <tr>\n",
              "      <th>165</th>\n",
              "      <td>(1, 1, 0)</td>\n",
              "      <td>(0, 1, 1, 12)</td>\n",
              "      <td>410.0</td>\n",
              "    </tr>\n",
              "    <tr>\n",
              "      <th>87</th>\n",
              "      <td>(0, 1, 1)</td>\n",
              "      <td>(2, 1, 0, 12)</td>\n",
              "      <td>411.0</td>\n",
              "    </tr>\n",
              "    <tr>\n",
              "      <th>58</th>\n",
              "      <td>(0, 1, 0)</td>\n",
              "      <td>(0, 1, 1, 12)</td>\n",
              "      <td>411.2</td>\n",
              "    </tr>\n",
              "    <tr>\n",
              "      <th>77</th>\n",
              "      <td>(0, 1, 1)</td>\n",
              "      <td>(0, 1, 2, 12)</td>\n",
              "      <td>411.2</td>\n",
              "    </tr>\n",
              "    <tr>\n",
              "      <th>82</th>\n",
              "      <td>(0, 1, 1)</td>\n",
              "      <td>(1, 1, 1, 12)</td>\n",
              "      <td>411.3</td>\n",
              "    </tr>\n",
              "    <tr>\n",
              "      <th>273</th>\n",
              "      <td>(2, 1, 0)</td>\n",
              "      <td>(0, 1, 1, 12)</td>\n",
              "      <td>411.4</td>\n",
              "    </tr>\n",
              "    <tr>\n",
              "      <th>94</th>\n",
              "      <td>(0, 1, 2)</td>\n",
              "      <td>(0, 1, 1, 12)</td>\n",
              "      <td>411.5</td>\n",
              "    </tr>\n",
              "    <tr>\n",
              "      <th>176</th>\n",
              "      <td>(1, 1, 0)</td>\n",
              "      <td>(2, 1, 0, 12)</td>\n",
              "      <td>411.5</td>\n",
              "    </tr>\n",
              "    <tr>\n",
              "      <th>183</th>\n",
              "      <td>(1, 1, 1)</td>\n",
              "      <td>(0, 1, 1, 12)</td>\n",
              "      <td>411.5</td>\n",
              "    </tr>\n",
              "    <tr>\n",
              "      <th>81</th>\n",
              "      <td>(0, 1, 1)</td>\n",
              "      <td>(1, 1, 0, 12)</td>\n",
              "      <td>411.7</td>\n",
              "    </tr>\n",
              "    <tr>\n",
              "      <th>171</th>\n",
              "      <td>(1, 1, 0)</td>\n",
              "      <td>(1, 1, 1, 12)</td>\n",
              "      <td>411.8</td>\n",
              "    </tr>\n",
              "    <tr>\n",
              "      <th>166</th>\n",
              "      <td>(1, 1, 0)</td>\n",
              "      <td>(0, 1, 2, 12)</td>\n",
              "      <td>411.8</td>\n",
              "    </tr>\n",
              "    <tr>\n",
              "      <th>170</th>\n",
              "      <td>(1, 1, 0)</td>\n",
              "      <td>(1, 1, 0, 12)</td>\n",
              "      <td>412.2</td>\n",
              "    </tr>\n",
              "  </tbody>\n",
              "</table>\n",
              "</div>\n",
              "    <div class=\"colab-df-buttons\">\n",
              "\n",
              "  <div class=\"colab-df-container\">\n",
              "    <button class=\"colab-df-convert\" onclick=\"convertToInteractive('df-3acb2535-4abb-4dfa-8868-35295c209434')\"\n",
              "            title=\"Convert this dataframe to an interactive table.\"\n",
              "            style=\"display:none;\">\n",
              "\n",
              "  <svg xmlns=\"http://www.w3.org/2000/svg\" height=\"24px\" viewBox=\"0 -960 960 960\">\n",
              "    <path d=\"M120-120v-720h720v720H120Zm60-500h600v-160H180v160Zm220 220h160v-160H400v160Zm0 220h160v-160H400v160ZM180-400h160v-160H180v160Zm440 0h160v-160H620v160ZM180-180h160v-160H180v160Zm440 0h160v-160H620v160Z\"/>\n",
              "  </svg>\n",
              "    </button>\n",
              "\n",
              "  <style>\n",
              "    .colab-df-container {\n",
              "      display:flex;\n",
              "      gap: 12px;\n",
              "    }\n",
              "\n",
              "    .colab-df-convert {\n",
              "      background-color: #E8F0FE;\n",
              "      border: none;\n",
              "      border-radius: 50%;\n",
              "      cursor: pointer;\n",
              "      display: none;\n",
              "      fill: #1967D2;\n",
              "      height: 32px;\n",
              "      padding: 0 0 0 0;\n",
              "      width: 32px;\n",
              "    }\n",
              "\n",
              "    .colab-df-convert:hover {\n",
              "      background-color: #E2EBFA;\n",
              "      box-shadow: 0px 1px 2px rgba(60, 64, 67, 0.3), 0px 1px 3px 1px rgba(60, 64, 67, 0.15);\n",
              "      fill: #174EA6;\n",
              "    }\n",
              "\n",
              "    .colab-df-buttons div {\n",
              "      margin-bottom: 4px;\n",
              "    }\n",
              "\n",
              "    [theme=dark] .colab-df-convert {\n",
              "      background-color: #3B4455;\n",
              "      fill: #D2E3FC;\n",
              "    }\n",
              "\n",
              "    [theme=dark] .colab-df-convert:hover {\n",
              "      background-color: #434B5C;\n",
              "      box-shadow: 0px 1px 3px 1px rgba(0, 0, 0, 0.15);\n",
              "      filter: drop-shadow(0px 1px 2px rgba(0, 0, 0, 0.3));\n",
              "      fill: #FFFFFF;\n",
              "    }\n",
              "  </style>\n",
              "\n",
              "    <script>\n",
              "      const buttonEl =\n",
              "        document.querySelector('#df-3acb2535-4abb-4dfa-8868-35295c209434 button.colab-df-convert');\n",
              "      buttonEl.style.display =\n",
              "        google.colab.kernel.accessAllowed ? 'block' : 'none';\n",
              "\n",
              "      async function convertToInteractive(key) {\n",
              "        const element = document.querySelector('#df-3acb2535-4abb-4dfa-8868-35295c209434');\n",
              "        const dataTable =\n",
              "          await google.colab.kernel.invokeFunction('convertToInteractive',\n",
              "                                                    [key], {});\n",
              "        if (!dataTable) return;\n",
              "\n",
              "        const docLinkHtml = 'Like what you see? Visit the ' +\n",
              "          '<a target=\"_blank\" href=https://colab.research.google.com/notebooks/data_table.ipynb>data table notebook</a>'\n",
              "          + ' to learn more about interactive tables.';\n",
              "        element.innerHTML = '';\n",
              "        dataTable['output_type'] = 'display_data';\n",
              "        await google.colab.output.renderOutput(dataTable, element);\n",
              "        const docLink = document.createElement('div');\n",
              "        docLink.innerHTML = docLinkHtml;\n",
              "        element.appendChild(docLink);\n",
              "      }\n",
              "    </script>\n",
              "  </div>\n",
              "\n",
              "\n",
              "<div id=\"df-8d979235-5ee7-4819-9b4c-4e8a5ede8bd3\">\n",
              "  <button class=\"colab-df-quickchart\" onclick=\"quickchart('df-8d979235-5ee7-4819-9b4c-4e8a5ede8bd3')\"\n",
              "            title=\"Suggest charts\"\n",
              "            style=\"display:none;\">\n",
              "\n",
              "<svg xmlns=\"http://www.w3.org/2000/svg\" height=\"24px\"viewBox=\"0 0 24 24\"\n",
              "     width=\"24px\">\n",
              "    <g>\n",
              "        <path d=\"M19 3H5c-1.1 0-2 .9-2 2v14c0 1.1.9 2 2 2h14c1.1 0 2-.9 2-2V5c0-1.1-.9-2-2-2zM9 17H7v-7h2v7zm4 0h-2V7h2v10zm4 0h-2v-4h2v4z\"/>\n",
              "    </g>\n",
              "</svg>\n",
              "  </button>\n",
              "\n",
              "<style>\n",
              "  .colab-df-quickchart {\n",
              "      --bg-color: #E8F0FE;\n",
              "      --fill-color: #1967D2;\n",
              "      --hover-bg-color: #E2EBFA;\n",
              "      --hover-fill-color: #174EA6;\n",
              "      --disabled-fill-color: #AAA;\n",
              "      --disabled-bg-color: #DDD;\n",
              "  }\n",
              "\n",
              "  [theme=dark] .colab-df-quickchart {\n",
              "      --bg-color: #3B4455;\n",
              "      --fill-color: #D2E3FC;\n",
              "      --hover-bg-color: #434B5C;\n",
              "      --hover-fill-color: #FFFFFF;\n",
              "      --disabled-bg-color: #3B4455;\n",
              "      --disabled-fill-color: #666;\n",
              "  }\n",
              "\n",
              "  .colab-df-quickchart {\n",
              "    background-color: var(--bg-color);\n",
              "    border: none;\n",
              "    border-radius: 50%;\n",
              "    cursor: pointer;\n",
              "    display: none;\n",
              "    fill: var(--fill-color);\n",
              "    height: 32px;\n",
              "    padding: 0;\n",
              "    width: 32px;\n",
              "  }\n",
              "\n",
              "  .colab-df-quickchart:hover {\n",
              "    background-color: var(--hover-bg-color);\n",
              "    box-shadow: 0 1px 2px rgba(60, 64, 67, 0.3), 0 1px 3px 1px rgba(60, 64, 67, 0.15);\n",
              "    fill: var(--button-hover-fill-color);\n",
              "  }\n",
              "\n",
              "  .colab-df-quickchart-complete:disabled,\n",
              "  .colab-df-quickchart-complete:disabled:hover {\n",
              "    background-color: var(--disabled-bg-color);\n",
              "    fill: var(--disabled-fill-color);\n",
              "    box-shadow: none;\n",
              "  }\n",
              "\n",
              "  .colab-df-spinner {\n",
              "    border: 2px solid var(--fill-color);\n",
              "    border-color: transparent;\n",
              "    border-bottom-color: var(--fill-color);\n",
              "    animation:\n",
              "      spin 1s steps(1) infinite;\n",
              "  }\n",
              "\n",
              "  @keyframes spin {\n",
              "    0% {\n",
              "      border-color: transparent;\n",
              "      border-bottom-color: var(--fill-color);\n",
              "      border-left-color: var(--fill-color);\n",
              "    }\n",
              "    20% {\n",
              "      border-color: transparent;\n",
              "      border-left-color: var(--fill-color);\n",
              "      border-top-color: var(--fill-color);\n",
              "    }\n",
              "    30% {\n",
              "      border-color: transparent;\n",
              "      border-left-color: var(--fill-color);\n",
              "      border-top-color: var(--fill-color);\n",
              "      border-right-color: var(--fill-color);\n",
              "    }\n",
              "    40% {\n",
              "      border-color: transparent;\n",
              "      border-right-color: var(--fill-color);\n",
              "      border-top-color: var(--fill-color);\n",
              "    }\n",
              "    60% {\n",
              "      border-color: transparent;\n",
              "      border-right-color: var(--fill-color);\n",
              "    }\n",
              "    80% {\n",
              "      border-color: transparent;\n",
              "      border-right-color: var(--fill-color);\n",
              "      border-bottom-color: var(--fill-color);\n",
              "    }\n",
              "    90% {\n",
              "      border-color: transparent;\n",
              "      border-bottom-color: var(--fill-color);\n",
              "    }\n",
              "  }\n",
              "</style>\n",
              "\n",
              "  <script>\n",
              "    async function quickchart(key) {\n",
              "      const quickchartButtonEl =\n",
              "        document.querySelector('#' + key + ' button');\n",
              "      quickchartButtonEl.disabled = true;  // To prevent multiple clicks.\n",
              "      quickchartButtonEl.classList.add('colab-df-spinner');\n",
              "      try {\n",
              "        const charts = await google.colab.kernel.invokeFunction(\n",
              "            'suggestCharts', [key], {});\n",
              "      } catch (error) {\n",
              "        console.error('Error during call to suggestCharts:', error);\n",
              "      }\n",
              "      quickchartButtonEl.classList.remove('colab-df-spinner');\n",
              "      quickchartButtonEl.classList.add('colab-df-quickchart-complete');\n",
              "    }\n",
              "    (() => {\n",
              "      let quickchartButtonEl =\n",
              "        document.querySelector('#df-8d979235-5ee7-4819-9b4c-4e8a5ede8bd3 button');\n",
              "      quickchartButtonEl.style.display =\n",
              "        google.colab.kernel.accessAllowed ? 'block' : 'none';\n",
              "    })();\n",
              "  </script>\n",
              "</div>\n",
              "    </div>\n",
              "  </div>\n"
            ]
          },
          "metadata": {},
          "execution_count": 27
        }
      ]
    },
    {
      "cell_type": "code",
      "source": [
        "order, season = dataparam[\"param_order\"], dataparam[\"param_seasonal\"]"
      ],
      "metadata": {
        "id": "r9iDbW7-5AfZ"
      },
      "execution_count": 28,
      "outputs": []
    },
    {
      "cell_type": "code",
      "source": [
        "order, season = order.unique(), season.unique()\n",
        "len(order), len(season)"
      ],
      "metadata": {
        "colab": {
          "base_uri": "https://localhost:8080/"
        },
        "id": "RjVhn_7wWCJM",
        "outputId": "4e912744-9af2-4911-cf52-6540bbec77d4"
      },
      "execution_count": 29,
      "outputs": [
        {
          "output_type": "execute_result",
          "data": {
            "text/plain": [
              "(7, 6)"
            ]
          },
          "metadata": {},
          "execution_count": 29
        }
      ]
    },
    {
      "cell_type": "code",
      "source": [
        "error=[]\n",
        "def get_error(data, param1, param2, iter):\n",
        "    for x in param1:\n",
        "        for y in param2:\n",
        "            try:\n",
        "                mod = SARIMAX(data,\n",
        "                              order = x,\n",
        "                              seasonal_order = y)\n",
        "                hasil = mod.fit(maxiter=iter)\n",
        "                predik = hasil.get_forecast(steps=12)\n",
        "                prediction = hasil.predict(len(train), len(train) + len(test)-1)\n",
        "                error.append([x, y, mse(test, prediction).round(1)])\n",
        "                print(f'{x} x {y} : mse = {mse(test, prediction).round(1)}')\n",
        "            except:\n",
        "                continue"
      ],
      "metadata": {
        "id": "BQ65fj_D0609"
      },
      "execution_count": 30,
      "outputs": []
    },
    {
      "cell_type": "code",
      "source": [
        "get_error(train, order, season, 50)"
      ],
      "metadata": {
        "id": "-t3ALT9d-B6u",
        "colab": {
          "base_uri": "https://localhost:8080/"
        },
        "outputId": "87fc095d-dd4f-49e0-e4f1-d959f4db0e67"
      },
      "execution_count": 31,
      "outputs": [
        {
          "output_type": "stream",
          "name": "stdout",
          "text": [
            "(2, 0, 0) x (2, 0, 1, 12) : mse = 3696107.6\n",
            "(2, 0, 0) x (0, 1, 1, 12) : mse = 27367.2\n",
            "(2, 0, 0) x (2, 1, 0, 12) : mse = 10502.1\n",
            "(2, 0, 0) x (0, 1, 2, 12) : mse = 32394.6\n",
            "(2, 0, 0) x (1, 1, 1, 12) : mse = 33413.2\n",
            "(2, 0, 0) x (1, 1, 0, 12) : mse = 38427.7\n",
            "(0, 1, 1) x (2, 0, 1, 12) : mse = 29178.6\n",
            "(0, 1, 1) x (0, 1, 1, 12) : mse = 9974.1\n",
            "(0, 1, 1) x (2, 1, 0, 12) : mse = 5830.1\n",
            "(0, 1, 1) x (0, 1, 2, 12) : mse = 11905.5\n",
            "(0, 1, 1) x (1, 1, 1, 12) : mse = 12046.3\n",
            "(0, 1, 1) x (1, 1, 0, 12) : mse = 51460.9\n",
            "(1, 1, 0) x (2, 0, 1, 12) : mse = 30225.8\n",
            "(1, 1, 0) x (0, 1, 1, 12) : mse = 8206.3\n",
            "(1, 1, 0) x (2, 1, 0, 12) : mse = 4506.4\n",
            "(1, 1, 0) x (0, 1, 2, 12) : mse = 10536.9\n",
            "(1, 1, 0) x (1, 1, 1, 12) : mse = 10506.1\n",
            "(1, 1, 0) x (1, 1, 0, 12) : mse = 50818.4\n",
            "(0, 1, 0) x (2, 0, 1, 12) : mse = 63491.5\n",
            "(0, 1, 0) x (0, 1, 1, 12) : mse = 26262.3\n",
            "(0, 1, 0) x (2, 1, 0, 12) : mse = 14728.1\n",
            "(0, 1, 0) x (0, 1, 2, 12) : mse = 16353.4\n",
            "(0, 1, 0) x (1, 1, 1, 12) : mse = 18965.5\n",
            "(0, 1, 0) x (1, 1, 0, 12) : mse = 57705.3\n",
            "(2, 1, 0) x (2, 0, 1, 12) : mse = 29354.5\n",
            "(2, 1, 0) x (0, 1, 1, 12) : mse = 9719.1\n",
            "(2, 1, 0) x (2, 1, 0, 12) : mse = 5243.5\n",
            "(2, 1, 0) x (0, 1, 2, 12) : mse = 12556.2\n",
            "(2, 1, 0) x (1, 1, 1, 12) : mse = 12756.6\n",
            "(2, 1, 0) x (1, 1, 0, 12) : mse = 53518.3\n",
            "(0, 1, 2) x (2, 0, 1, 12) : mse = 29661.2\n",
            "(0, 1, 2) x (0, 1, 1, 12) : mse = 9292.4\n",
            "(0, 1, 2) x (2, 1, 0, 12) : mse = 5044.0\n",
            "(0, 1, 2) x (0, 1, 2, 12) : mse = 11939.6\n",
            "(0, 1, 2) x (1, 1, 1, 12) : mse = 12035.4\n",
            "(0, 1, 2) x (1, 1, 0, 12) : mse = 54011.4\n",
            "(1, 1, 1) x (2, 0, 1, 12) : mse = 29582.2\n",
            "(1, 1, 1) x (0, 1, 1, 12) : mse = 9362.0\n",
            "(1, 1, 1) x (2, 1, 0, 12) : mse = 5324.9\n",
            "(1, 1, 1) x (0, 1, 2, 12) : mse = 11930.0\n",
            "(1, 1, 1) x (1, 1, 1, 12) : mse = 12043.3\n",
            "(1, 1, 1) x (1, 1, 0, 12) : mse = 53585.9\n"
          ]
        }
      ]
    },
    {
      "cell_type": "code",
      "source": [
        "mod = SARIMAX(train,\n",
        "              order = (2, 1, 2),\n",
        "              seasonal_order = (2, 1, 0, 12))\n",
        "output = mod.fit(maxiter=50)\n",
        "predik = output.get_forecast(steps=12)\n",
        "prediksi = output.predict(len(train), len(train) + len(test) +11)#.rename('Prediksi')\n",
        "plt.plot(test,'b')\n",
        "plt.plot(prediksi, 'g')\n",
        "plt.title(f'mse = {mse(test, prediksi[:12]).round(1)}')"
      ],
      "metadata": {
        "colab": {
          "base_uri": "https://localhost:8080/",
          "height": 469
        },
        "id": "r78yhDK4po-B",
        "outputId": "755d8642-b751-4086-b756-faa8da161c9f"
      },
      "execution_count": 34,
      "outputs": [
        {
          "output_type": "execute_result",
          "data": {
            "text/plain": [
              "Text(0.5, 1.0, 'mse = 1886.8')"
            ]
          },
          "metadata": {},
          "execution_count": 34
        },
        {
          "output_type": "display_data",
          "data": {
            "text/plain": [
              "<Figure size 640x480 with 1 Axes>"
            ],
            "image/png": "[encoded data removed]"
          },
          "metadata": {}
        }
      ]
    },
    {
      "cell_type": "code",
      "source": [
        "prediksi[12:].round(1)"
      ],
      "metadata": {
        "colab": {
          "base_uri": "https://localhost:8080/"
        },
        "id": "4-r_LJDUZ4rV",
        "outputId": "c7f72a5a-a2c8-4c29-9622-762f9959055b"
      },
      "execution_count": 37,
      "outputs": [
        {
          "output_type": "execute_result",
          "data": {
            "text/plain": [
              "2023-12-01    1895.6\n",
              "2024-01-01    1954.7\n",
              "2024-02-01    1963.2\n",
              "2024-03-01    1934.9\n",
              "2024-04-01    1959.5\n",
              "2024-05-01    1988.0\n",
              "2024-06-01    2000.2\n",
              "2024-07-01    1987.9\n",
              "2024-08-01    1999.7\n",
              "2024-09-01    1949.8\n",
              "2024-10-01    1961.3\n",
              "2024-11-01    2001.8\n",
              "Freq: MS, Name: predicted_mean, dtype: float64"
            ]
          },
          "metadata": {},
          "execution_count": 37
        }
      ]
    }
  ]
}